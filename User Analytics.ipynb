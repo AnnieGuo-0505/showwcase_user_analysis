{
 "cells": [
  {
   "cell_type": "code",
   "execution_count": 46,
   "metadata": {},
   "outputs": [],
   "source": [
    "import numpy as np\n",
    "import pandas as pd\n",
    "import matplotlib.pyplot as plt\n",
    "from sklearn.model_selection import train_test_split\n",
    "from sklearn.linear_model import LinearRegression\n",
    "from sklearn.metrics import mean_squared_error,r2_score\n",
    "import statsmodels.api as sm"
   ]
  },
  {
   "cell_type": "code",
   "execution_count": 3,
   "metadata": {},
   "outputs": [],
   "source": [
    "data=pd.read_csv('showwcase_sessions.csv')"
   ]
  },
  {
   "cell_type": "code",
   "execution_count": 4,
   "metadata": {},
   "outputs": [
    {
     "data": {
      "text/html": [
       "<div>\n",
       "<style scoped>\n",
       "    .dataframe tbody tr th:only-of-type {\n",
       "        vertical-align: middle;\n",
       "    }\n",
       "\n",
       "    .dataframe tbody tr th {\n",
       "        vertical-align: top;\n",
       "    }\n",
       "\n",
       "    .dataframe thead th {\n",
       "        text-align: right;\n",
       "    }\n",
       "</style>\n",
       "<table border=\"1\" class=\"dataframe\">\n",
       "  <thead>\n",
       "    <tr style=\"text-align: right;\">\n",
       "      <th></th>\n",
       "      <th>session_id</th>\n",
       "      <th>customer_id</th>\n",
       "      <th>login_date</th>\n",
       "      <th>projects_added</th>\n",
       "      <th>likes_given</th>\n",
       "      <th>comment_given</th>\n",
       "      <th>inactive_status</th>\n",
       "      <th>bug_occured</th>\n",
       "      <th>session_projects_added</th>\n",
       "      <th>session_likes_given</th>\n",
       "      <th>session_comments_given</th>\n",
       "      <th>inactive_duration</th>\n",
       "      <th>bugs_in_session</th>\n",
       "      <th>session_duration</th>\n",
       "    </tr>\n",
       "  </thead>\n",
       "  <tbody>\n",
       "    <tr>\n",
       "      <th>0</th>\n",
       "      <td>624205.0</td>\n",
       "      <td>80746.0</td>\n",
       "      <td>10/30/19</td>\n",
       "      <td>False</td>\n",
       "      <td>True</td>\n",
       "      <td>True</td>\n",
       "      <td>True</td>\n",
       "      <td>False</td>\n",
       "      <td>0.0</td>\n",
       "      <td>24.0</td>\n",
       "      <td>3.0</td>\n",
       "      <td>1146.0</td>\n",
       "      <td>0.0</td>\n",
       "      <td>1564.0</td>\n",
       "    </tr>\n",
       "    <tr>\n",
       "      <th>1</th>\n",
       "      <td>624241.0</td>\n",
       "      <td>24520.0</td>\n",
       "      <td>10/30/19</td>\n",
       "      <td>True</td>\n",
       "      <td>True</td>\n",
       "      <td>True</td>\n",
       "      <td>True</td>\n",
       "      <td>False</td>\n",
       "      <td>2.0</td>\n",
       "      <td>3.0</td>\n",
       "      <td>5.0</td>\n",
       "      <td>133.0</td>\n",
       "      <td>0.0</td>\n",
       "      <td>1766.0</td>\n",
       "    </tr>\n",
       "    <tr>\n",
       "      <th>2</th>\n",
       "      <td>111002.0</td>\n",
       "      <td>32047.0</td>\n",
       "      <td>10/30/19</td>\n",
       "      <td>True</td>\n",
       "      <td>True</td>\n",
       "      <td>True</td>\n",
       "      <td>True</td>\n",
       "      <td>False</td>\n",
       "      <td>1.0</td>\n",
       "      <td>5.0</td>\n",
       "      <td>5.0</td>\n",
       "      <td>1571.0</td>\n",
       "      <td>0.0</td>\n",
       "      <td>2230.0</td>\n",
       "    </tr>\n",
       "    <tr>\n",
       "      <th>3</th>\n",
       "      <td>545113.0</td>\n",
       "      <td>23404.0</td>\n",
       "      <td>10/30/19</td>\n",
       "      <td>True</td>\n",
       "      <td>True</td>\n",
       "      <td>True</td>\n",
       "      <td>False</td>\n",
       "      <td>False</td>\n",
       "      <td>1.0</td>\n",
       "      <td>10.0</td>\n",
       "      <td>21.0</td>\n",
       "      <td>0.0</td>\n",
       "      <td>0.0</td>\n",
       "      <td>633.0</td>\n",
       "    </tr>\n",
       "    <tr>\n",
       "      <th>4</th>\n",
       "      <td>750269.0</td>\n",
       "      <td>40235.0</td>\n",
       "      <td>10/30/19</td>\n",
       "      <td>True</td>\n",
       "      <td>True</td>\n",
       "      <td>False</td>\n",
       "      <td>True</td>\n",
       "      <td>False</td>\n",
       "      <td>3.0</td>\n",
       "      <td>16.0</td>\n",
       "      <td>0.0</td>\n",
       "      <td>1405.0</td>\n",
       "      <td>0.0</td>\n",
       "      <td>1679.0</td>\n",
       "    </tr>\n",
       "  </tbody>\n",
       "</table>\n",
       "</div>"
      ],
      "text/plain": [
       "   session_id  customer_id login_date projects_added likes_given  \\\n",
       "0    624205.0      80746.0   10/30/19          False        True   \n",
       "1    624241.0      24520.0   10/30/19           True        True   \n",
       "2    111002.0      32047.0   10/30/19           True        True   \n",
       "3    545113.0      23404.0   10/30/19           True        True   \n",
       "4    750269.0      40235.0   10/30/19           True        True   \n",
       "\n",
       "  comment_given inactive_status bug_occured  session_projects_added  \\\n",
       "0          True            True       False                     0.0   \n",
       "1          True            True       False                     2.0   \n",
       "2          True            True       False                     1.0   \n",
       "3          True           False       False                     1.0   \n",
       "4         False            True       False                     3.0   \n",
       "\n",
       "   session_likes_given  session_comments_given  inactive_duration  \\\n",
       "0                 24.0                     3.0             1146.0   \n",
       "1                  3.0                     5.0              133.0   \n",
       "2                  5.0                     5.0             1571.0   \n",
       "3                 10.0                    21.0                0.0   \n",
       "4                 16.0                     0.0             1405.0   \n",
       "\n",
       "   bugs_in_session  session_duration  \n",
       "0              0.0            1564.0  \n",
       "1              0.0            1766.0  \n",
       "2              0.0            2230.0  \n",
       "3              0.0             633.0  \n",
       "4              0.0            1679.0  "
      ]
     },
     "execution_count": 4,
     "metadata": {},
     "output_type": "execute_result"
    }
   ],
   "source": [
    "data.head()"
   ]
  },
  {
   "cell_type": "code",
   "execution_count": 5,
   "metadata": {},
   "outputs": [
    {
     "name": "stdout",
     "output_type": "stream",
     "text": [
      "<class 'pandas.core.frame.DataFrame'>\n",
      "RangeIndex: 302 entries, 0 to 301\n",
      "Data columns (total 14 columns):\n",
      " #   Column                  Non-Null Count  Dtype  \n",
      "---  ------                  --------------  -----  \n",
      " 0   session_id              300 non-null    float64\n",
      " 1   customer_id             300 non-null    float64\n",
      " 2   login_date              300 non-null    object \n",
      " 3   projects_added          300 non-null    object \n",
      " 4   likes_given             300 non-null    object \n",
      " 5   comment_given           300 non-null    object \n",
      " 6   inactive_status         300 non-null    object \n",
      " 7   bug_occured             300 non-null    object \n",
      " 8   session_projects_added  300 non-null    float64\n",
      " 9   session_likes_given     299 non-null    float64\n",
      " 10  session_comments_given  300 non-null    float64\n",
      " 11  inactive_duration       300 non-null    float64\n",
      " 12  bugs_in_session         300 non-null    float64\n",
      " 13  session_duration        300 non-null    float64\n",
      "dtypes: float64(8), object(6)\n",
      "memory usage: 33.2+ KB\n"
     ]
    }
   ],
   "source": [
    "data.info()"
   ]
  },
  {
   "cell_type": "markdown",
   "metadata": {},
   "source": [
    "## Data Preprocessing"
   ]
  },
  {
   "cell_type": "code",
   "execution_count": 6,
   "metadata": {},
   "outputs": [
    {
     "data": {
      "text/plain": [
       "session_id                2\n",
       "customer_id               2\n",
       "login_date                2\n",
       "projects_added            2\n",
       "likes_given               2\n",
       "comment_given             2\n",
       "inactive_status           2\n",
       "bug_occured               2\n",
       "session_projects_added    2\n",
       "session_likes_given       3\n",
       "session_comments_given    2\n",
       "inactive_duration         2\n",
       "bugs_in_session           2\n",
       "session_duration          2\n",
       "dtype: int64"
      ]
     },
     "execution_count": 6,
     "metadata": {},
     "output_type": "execute_result"
    }
   ],
   "source": [
    "data.isna().sum() #find null values"
   ]
  },
  {
   "cell_type": "code",
   "execution_count": 7,
   "metadata": {},
   "outputs": [
    {
     "name": "stdout",
     "output_type": "stream",
     "text": [
      "<class 'pandas.core.frame.DataFrame'>\n",
      "Int64Index: 299 entries, 0 to 299\n",
      "Data columns (total 14 columns):\n",
      " #   Column                  Non-Null Count  Dtype  \n",
      "---  ------                  --------------  -----  \n",
      " 0   session_id              299 non-null    float64\n",
      " 1   customer_id             299 non-null    float64\n",
      " 2   login_date              299 non-null    object \n",
      " 3   projects_added          299 non-null    object \n",
      " 4   likes_given             299 non-null    object \n",
      " 5   comment_given           299 non-null    object \n",
      " 6   inactive_status         299 non-null    object \n",
      " 7   bug_occured             299 non-null    object \n",
      " 8   session_projects_added  299 non-null    float64\n",
      " 9   session_likes_given     299 non-null    float64\n",
      " 10  session_comments_given  299 non-null    float64\n",
      " 11  inactive_duration       299 non-null    float64\n",
      " 12  bugs_in_session         299 non-null    float64\n",
      " 13  session_duration        299 non-null    float64\n",
      "dtypes: float64(8), object(6)\n",
      "memory usage: 35.0+ KB\n"
     ]
    }
   ],
   "source": [
    "data1 = data.dropna() #drop null values\n",
    "data1.info()"
   ]
  },
  {
   "cell_type": "code",
   "execution_count": 8,
   "metadata": {},
   "outputs": [],
   "source": [
    "data2 = pd.merge(data1, pd.DataFrame(data1['login_date'].str.split('/',expand = True)), how='left', left_index=True, right_index=True)"
   ]
  },
  {
   "cell_type": "code",
   "execution_count": 9,
   "metadata": {},
   "outputs": [
    {
     "data": {
      "text/html": [
       "<div>\n",
       "<style scoped>\n",
       "    .dataframe tbody tr th:only-of-type {\n",
       "        vertical-align: middle;\n",
       "    }\n",
       "\n",
       "    .dataframe tbody tr th {\n",
       "        vertical-align: top;\n",
       "    }\n",
       "\n",
       "    .dataframe thead th {\n",
       "        text-align: right;\n",
       "    }\n",
       "</style>\n",
       "<table border=\"1\" class=\"dataframe\">\n",
       "  <thead>\n",
       "    <tr style=\"text-align: right;\">\n",
       "      <th></th>\n",
       "      <th>session_id</th>\n",
       "      <th>customer_id</th>\n",
       "      <th>login_date</th>\n",
       "      <th>projects_added</th>\n",
       "      <th>likes_given</th>\n",
       "      <th>comment_given</th>\n",
       "      <th>inactive_status</th>\n",
       "      <th>bug_occured</th>\n",
       "      <th>session_projects_added</th>\n",
       "      <th>session_likes_given</th>\n",
       "      <th>session_comments_given</th>\n",
       "      <th>inactive_duration</th>\n",
       "      <th>bugs_in_session</th>\n",
       "      <th>session_duration</th>\n",
       "      <th>0</th>\n",
       "      <th>1</th>\n",
       "      <th>2</th>\n",
       "    </tr>\n",
       "  </thead>\n",
       "  <tbody>\n",
       "    <tr>\n",
       "      <th>0</th>\n",
       "      <td>624205.0</td>\n",
       "      <td>80746.0</td>\n",
       "      <td>10/30/19</td>\n",
       "      <td>False</td>\n",
       "      <td>True</td>\n",
       "      <td>True</td>\n",
       "      <td>True</td>\n",
       "      <td>False</td>\n",
       "      <td>0.0</td>\n",
       "      <td>24.0</td>\n",
       "      <td>3.0</td>\n",
       "      <td>1146.0</td>\n",
       "      <td>0.0</td>\n",
       "      <td>1564.0</td>\n",
       "      <td>10</td>\n",
       "      <td>30</td>\n",
       "      <td>19</td>\n",
       "    </tr>\n",
       "    <tr>\n",
       "      <th>1</th>\n",
       "      <td>624241.0</td>\n",
       "      <td>24520.0</td>\n",
       "      <td>10/30/19</td>\n",
       "      <td>True</td>\n",
       "      <td>True</td>\n",
       "      <td>True</td>\n",
       "      <td>True</td>\n",
       "      <td>False</td>\n",
       "      <td>2.0</td>\n",
       "      <td>3.0</td>\n",
       "      <td>5.0</td>\n",
       "      <td>133.0</td>\n",
       "      <td>0.0</td>\n",
       "      <td>1766.0</td>\n",
       "      <td>10</td>\n",
       "      <td>30</td>\n",
       "      <td>19</td>\n",
       "    </tr>\n",
       "    <tr>\n",
       "      <th>2</th>\n",
       "      <td>111002.0</td>\n",
       "      <td>32047.0</td>\n",
       "      <td>10/30/19</td>\n",
       "      <td>True</td>\n",
       "      <td>True</td>\n",
       "      <td>True</td>\n",
       "      <td>True</td>\n",
       "      <td>False</td>\n",
       "      <td>1.0</td>\n",
       "      <td>5.0</td>\n",
       "      <td>5.0</td>\n",
       "      <td>1571.0</td>\n",
       "      <td>0.0</td>\n",
       "      <td>2230.0</td>\n",
       "      <td>10</td>\n",
       "      <td>30</td>\n",
       "      <td>19</td>\n",
       "    </tr>\n",
       "    <tr>\n",
       "      <th>3</th>\n",
       "      <td>545113.0</td>\n",
       "      <td>23404.0</td>\n",
       "      <td>10/30/19</td>\n",
       "      <td>True</td>\n",
       "      <td>True</td>\n",
       "      <td>True</td>\n",
       "      <td>False</td>\n",
       "      <td>False</td>\n",
       "      <td>1.0</td>\n",
       "      <td>10.0</td>\n",
       "      <td>21.0</td>\n",
       "      <td>0.0</td>\n",
       "      <td>0.0</td>\n",
       "      <td>633.0</td>\n",
       "      <td>10</td>\n",
       "      <td>30</td>\n",
       "      <td>19</td>\n",
       "    </tr>\n",
       "    <tr>\n",
       "      <th>4</th>\n",
       "      <td>750269.0</td>\n",
       "      <td>40235.0</td>\n",
       "      <td>10/30/19</td>\n",
       "      <td>True</td>\n",
       "      <td>True</td>\n",
       "      <td>False</td>\n",
       "      <td>True</td>\n",
       "      <td>False</td>\n",
       "      <td>3.0</td>\n",
       "      <td>16.0</td>\n",
       "      <td>0.0</td>\n",
       "      <td>1405.0</td>\n",
       "      <td>0.0</td>\n",
       "      <td>1679.0</td>\n",
       "      <td>10</td>\n",
       "      <td>30</td>\n",
       "      <td>19</td>\n",
       "    </tr>\n",
       "  </tbody>\n",
       "</table>\n",
       "</div>"
      ],
      "text/plain": [
       "   session_id  customer_id login_date projects_added likes_given  \\\n",
       "0    624205.0      80746.0   10/30/19          False        True   \n",
       "1    624241.0      24520.0   10/30/19           True        True   \n",
       "2    111002.0      32047.0   10/30/19           True        True   \n",
       "3    545113.0      23404.0   10/30/19           True        True   \n",
       "4    750269.0      40235.0   10/30/19           True        True   \n",
       "\n",
       "  comment_given inactive_status bug_occured  session_projects_added  \\\n",
       "0          True            True       False                     0.0   \n",
       "1          True            True       False                     2.0   \n",
       "2          True            True       False                     1.0   \n",
       "3          True           False       False                     1.0   \n",
       "4         False            True       False                     3.0   \n",
       "\n",
       "   session_likes_given  session_comments_given  inactive_duration  \\\n",
       "0                 24.0                     3.0             1146.0   \n",
       "1                  3.0                     5.0              133.0   \n",
       "2                  5.0                     5.0             1571.0   \n",
       "3                 10.0                    21.0                0.0   \n",
       "4                 16.0                     0.0             1405.0   \n",
       "\n",
       "   bugs_in_session  session_duration   0   1   2  \n",
       "0              0.0            1564.0  10  30  19  \n",
       "1              0.0            1766.0  10  30  19  \n",
       "2              0.0            2230.0  10  30  19  \n",
       "3              0.0             633.0  10  30  19  \n",
       "4              0.0            1679.0  10  30  19  "
      ]
     },
     "execution_count": 9,
     "metadata": {},
     "output_type": "execute_result"
    }
   ],
   "source": [
    "data2.head()"
   ]
  },
  {
   "cell_type": "code",
   "execution_count": 10,
   "metadata": {},
   "outputs": [
    {
     "data": {
      "text/html": [
       "<div>\n",
       "<style scoped>\n",
       "    .dataframe tbody tr th:only-of-type {\n",
       "        vertical-align: middle;\n",
       "    }\n",
       "\n",
       "    .dataframe tbody tr th {\n",
       "        vertical-align: top;\n",
       "    }\n",
       "\n",
       "    .dataframe thead th {\n",
       "        text-align: right;\n",
       "    }\n",
       "</style>\n",
       "<table border=\"1\" class=\"dataframe\">\n",
       "  <thead>\n",
       "    <tr style=\"text-align: right;\">\n",
       "      <th></th>\n",
       "      <th>session_id</th>\n",
       "      <th>customer_id</th>\n",
       "      <th>login_date</th>\n",
       "      <th>projects_added</th>\n",
       "      <th>likes_given</th>\n",
       "      <th>comment_given</th>\n",
       "      <th>inactive_status</th>\n",
       "      <th>bug_occured</th>\n",
       "      <th>session_projects_added</th>\n",
       "      <th>session_likes_given</th>\n",
       "      <th>session_comments_given</th>\n",
       "      <th>inactive_duration</th>\n",
       "      <th>bugs_in_session</th>\n",
       "      <th>session_duration</th>\n",
       "      <th>login_month</th>\n",
       "      <th>login_day</th>\n",
       "      <th>login_year</th>\n",
       "    </tr>\n",
       "  </thead>\n",
       "  <tbody>\n",
       "    <tr>\n",
       "      <th>0</th>\n",
       "      <td>624205.0</td>\n",
       "      <td>80746.0</td>\n",
       "      <td>10/30/19</td>\n",
       "      <td>False</td>\n",
       "      <td>True</td>\n",
       "      <td>True</td>\n",
       "      <td>True</td>\n",
       "      <td>False</td>\n",
       "      <td>0.0</td>\n",
       "      <td>24.0</td>\n",
       "      <td>3.0</td>\n",
       "      <td>1146.0</td>\n",
       "      <td>0.0</td>\n",
       "      <td>1564.0</td>\n",
       "      <td>10</td>\n",
       "      <td>30</td>\n",
       "      <td>19</td>\n",
       "    </tr>\n",
       "    <tr>\n",
       "      <th>1</th>\n",
       "      <td>624241.0</td>\n",
       "      <td>24520.0</td>\n",
       "      <td>10/30/19</td>\n",
       "      <td>True</td>\n",
       "      <td>True</td>\n",
       "      <td>True</td>\n",
       "      <td>True</td>\n",
       "      <td>False</td>\n",
       "      <td>2.0</td>\n",
       "      <td>3.0</td>\n",
       "      <td>5.0</td>\n",
       "      <td>133.0</td>\n",
       "      <td>0.0</td>\n",
       "      <td>1766.0</td>\n",
       "      <td>10</td>\n",
       "      <td>30</td>\n",
       "      <td>19</td>\n",
       "    </tr>\n",
       "    <tr>\n",
       "      <th>2</th>\n",
       "      <td>111002.0</td>\n",
       "      <td>32047.0</td>\n",
       "      <td>10/30/19</td>\n",
       "      <td>True</td>\n",
       "      <td>True</td>\n",
       "      <td>True</td>\n",
       "      <td>True</td>\n",
       "      <td>False</td>\n",
       "      <td>1.0</td>\n",
       "      <td>5.0</td>\n",
       "      <td>5.0</td>\n",
       "      <td>1571.0</td>\n",
       "      <td>0.0</td>\n",
       "      <td>2230.0</td>\n",
       "      <td>10</td>\n",
       "      <td>30</td>\n",
       "      <td>19</td>\n",
       "    </tr>\n",
       "    <tr>\n",
       "      <th>3</th>\n",
       "      <td>545113.0</td>\n",
       "      <td>23404.0</td>\n",
       "      <td>10/30/19</td>\n",
       "      <td>True</td>\n",
       "      <td>True</td>\n",
       "      <td>True</td>\n",
       "      <td>False</td>\n",
       "      <td>False</td>\n",
       "      <td>1.0</td>\n",
       "      <td>10.0</td>\n",
       "      <td>21.0</td>\n",
       "      <td>0.0</td>\n",
       "      <td>0.0</td>\n",
       "      <td>633.0</td>\n",
       "      <td>10</td>\n",
       "      <td>30</td>\n",
       "      <td>19</td>\n",
       "    </tr>\n",
       "    <tr>\n",
       "      <th>4</th>\n",
       "      <td>750269.0</td>\n",
       "      <td>40235.0</td>\n",
       "      <td>10/30/19</td>\n",
       "      <td>True</td>\n",
       "      <td>True</td>\n",
       "      <td>False</td>\n",
       "      <td>True</td>\n",
       "      <td>False</td>\n",
       "      <td>3.0</td>\n",
       "      <td>16.0</td>\n",
       "      <td>0.0</td>\n",
       "      <td>1405.0</td>\n",
       "      <td>0.0</td>\n",
       "      <td>1679.0</td>\n",
       "      <td>10</td>\n",
       "      <td>30</td>\n",
       "      <td>19</td>\n",
       "    </tr>\n",
       "  </tbody>\n",
       "</table>\n",
       "</div>"
      ],
      "text/plain": [
       "   session_id  customer_id login_date projects_added likes_given  \\\n",
       "0    624205.0      80746.0   10/30/19          False        True   \n",
       "1    624241.0      24520.0   10/30/19           True        True   \n",
       "2    111002.0      32047.0   10/30/19           True        True   \n",
       "3    545113.0      23404.0   10/30/19           True        True   \n",
       "4    750269.0      40235.0   10/30/19           True        True   \n",
       "\n",
       "  comment_given inactive_status bug_occured  session_projects_added  \\\n",
       "0          True            True       False                     0.0   \n",
       "1          True            True       False                     2.0   \n",
       "2          True            True       False                     1.0   \n",
       "3          True           False       False                     1.0   \n",
       "4         False            True       False                     3.0   \n",
       "\n",
       "   session_likes_given  session_comments_given  inactive_duration  \\\n",
       "0                 24.0                     3.0             1146.0   \n",
       "1                  3.0                     5.0              133.0   \n",
       "2                  5.0                     5.0             1571.0   \n",
       "3                 10.0                    21.0                0.0   \n",
       "4                 16.0                     0.0             1405.0   \n",
       "\n",
       "   bugs_in_session  session_duration login_month login_day login_year  \n",
       "0              0.0            1564.0          10        30         19  \n",
       "1              0.0            1766.0          10        30         19  \n",
       "2              0.0            2230.0          10        30         19  \n",
       "3              0.0             633.0          10        30         19  \n",
       "4              0.0            1679.0          10        30         19  "
      ]
     },
     "execution_count": 10,
     "metadata": {},
     "output_type": "execute_result"
    }
   ],
   "source": [
    "data2.rename(columns = {0:'login_month',1:'login_day',2:'login_year'}, inplace = True) #split the date\n",
    "data2.head()"
   ]
  },
  {
   "cell_type": "code",
   "execution_count": 11,
   "metadata": {},
   "outputs": [
    {
     "data": {
      "text/html": [
       "<div>\n",
       "<style scoped>\n",
       "    .dataframe tbody tr th:only-of-type {\n",
       "        vertical-align: middle;\n",
       "    }\n",
       "\n",
       "    .dataframe tbody tr th {\n",
       "        vertical-align: top;\n",
       "    }\n",
       "\n",
       "    .dataframe thead th {\n",
       "        text-align: right;\n",
       "    }\n",
       "</style>\n",
       "<table border=\"1\" class=\"dataframe\">\n",
       "  <thead>\n",
       "    <tr style=\"text-align: right;\">\n",
       "      <th></th>\n",
       "      <th>session_id</th>\n",
       "      <th>customer_id</th>\n",
       "      <th>login_date</th>\n",
       "      <th>projects_added</th>\n",
       "      <th>likes_given</th>\n",
       "      <th>comment_given</th>\n",
       "      <th>inactive_status</th>\n",
       "      <th>bug_occured</th>\n",
       "      <th>session_projects_added</th>\n",
       "      <th>session_likes_given</th>\n",
       "      <th>session_comments_given</th>\n",
       "      <th>inactive_duration</th>\n",
       "      <th>bugs_in_session</th>\n",
       "      <th>session_duration</th>\n",
       "      <th>login_month</th>\n",
       "      <th>login_day</th>\n",
       "      <th>login_year</th>\n",
       "    </tr>\n",
       "  </thead>\n",
       "  <tbody>\n",
       "    <tr>\n",
       "      <th>0</th>\n",
       "      <td>624205.0</td>\n",
       "      <td>80746.0</td>\n",
       "      <td>10/30/19</td>\n",
       "      <td>0</td>\n",
       "      <td>1</td>\n",
       "      <td>1</td>\n",
       "      <td>1</td>\n",
       "      <td>0</td>\n",
       "      <td>0.0</td>\n",
       "      <td>24.0</td>\n",
       "      <td>3.0</td>\n",
       "      <td>1146.0</td>\n",
       "      <td>0.0</td>\n",
       "      <td>1564.0</td>\n",
       "      <td>10</td>\n",
       "      <td>30</td>\n",
       "      <td>19</td>\n",
       "    </tr>\n",
       "    <tr>\n",
       "      <th>1</th>\n",
       "      <td>624241.0</td>\n",
       "      <td>24520.0</td>\n",
       "      <td>10/30/19</td>\n",
       "      <td>1</td>\n",
       "      <td>1</td>\n",
       "      <td>1</td>\n",
       "      <td>1</td>\n",
       "      <td>0</td>\n",
       "      <td>2.0</td>\n",
       "      <td>3.0</td>\n",
       "      <td>5.0</td>\n",
       "      <td>133.0</td>\n",
       "      <td>0.0</td>\n",
       "      <td>1766.0</td>\n",
       "      <td>10</td>\n",
       "      <td>30</td>\n",
       "      <td>19</td>\n",
       "    </tr>\n",
       "    <tr>\n",
       "      <th>2</th>\n",
       "      <td>111002.0</td>\n",
       "      <td>32047.0</td>\n",
       "      <td>10/30/19</td>\n",
       "      <td>1</td>\n",
       "      <td>1</td>\n",
       "      <td>1</td>\n",
       "      <td>1</td>\n",
       "      <td>0</td>\n",
       "      <td>1.0</td>\n",
       "      <td>5.0</td>\n",
       "      <td>5.0</td>\n",
       "      <td>1571.0</td>\n",
       "      <td>0.0</td>\n",
       "      <td>2230.0</td>\n",
       "      <td>10</td>\n",
       "      <td>30</td>\n",
       "      <td>19</td>\n",
       "    </tr>\n",
       "    <tr>\n",
       "      <th>3</th>\n",
       "      <td>545113.0</td>\n",
       "      <td>23404.0</td>\n",
       "      <td>10/30/19</td>\n",
       "      <td>1</td>\n",
       "      <td>1</td>\n",
       "      <td>1</td>\n",
       "      <td>0</td>\n",
       "      <td>0</td>\n",
       "      <td>1.0</td>\n",
       "      <td>10.0</td>\n",
       "      <td>21.0</td>\n",
       "      <td>0.0</td>\n",
       "      <td>0.0</td>\n",
       "      <td>633.0</td>\n",
       "      <td>10</td>\n",
       "      <td>30</td>\n",
       "      <td>19</td>\n",
       "    </tr>\n",
       "    <tr>\n",
       "      <th>4</th>\n",
       "      <td>750269.0</td>\n",
       "      <td>40235.0</td>\n",
       "      <td>10/30/19</td>\n",
       "      <td>1</td>\n",
       "      <td>1</td>\n",
       "      <td>0</td>\n",
       "      <td>1</td>\n",
       "      <td>0</td>\n",
       "      <td>3.0</td>\n",
       "      <td>16.0</td>\n",
       "      <td>0.0</td>\n",
       "      <td>1405.0</td>\n",
       "      <td>0.0</td>\n",
       "      <td>1679.0</td>\n",
       "      <td>10</td>\n",
       "      <td>30</td>\n",
       "      <td>19</td>\n",
       "    </tr>\n",
       "  </tbody>\n",
       "</table>\n",
       "</div>"
      ],
      "text/plain": [
       "   session_id  customer_id login_date projects_added likes_given  \\\n",
       "0    624205.0      80746.0   10/30/19              0           1   \n",
       "1    624241.0      24520.0   10/30/19              1           1   \n",
       "2    111002.0      32047.0   10/30/19              1           1   \n",
       "3    545113.0      23404.0   10/30/19              1           1   \n",
       "4    750269.0      40235.0   10/30/19              1           1   \n",
       "\n",
       "  comment_given inactive_status bug_occured  session_projects_added  \\\n",
       "0             1               1           0                     0.0   \n",
       "1             1               1           0                     2.0   \n",
       "2             1               1           0                     1.0   \n",
       "3             1               0           0                     1.0   \n",
       "4             0               1           0                     3.0   \n",
       "\n",
       "   session_likes_given  session_comments_given  inactive_duration  \\\n",
       "0                 24.0                     3.0             1146.0   \n",
       "1                  3.0                     5.0              133.0   \n",
       "2                  5.0                     5.0             1571.0   \n",
       "3                 10.0                    21.0                0.0   \n",
       "4                 16.0                     0.0             1405.0   \n",
       "\n",
       "   bugs_in_session  session_duration login_month login_day login_year  \n",
       "0              0.0            1564.0          10        30         19  \n",
       "1              0.0            1766.0          10        30         19  \n",
       "2              0.0            2230.0          10        30         19  \n",
       "3              0.0             633.0          10        30         19  \n",
       "4              0.0            1679.0          10        30         19  "
      ]
     },
     "execution_count": 11,
     "metadata": {},
     "output_type": "execute_result"
    }
   ],
   "source": [
    "data2 = data2*1 #convert False/Ture to 0/1\n",
    "data2.head()"
   ]
  },
  {
   "cell_type": "markdown",
   "metadata": {},
   "source": [
    "## Login Time"
   ]
  },
  {
   "cell_type": "code",
   "execution_count": 12,
   "metadata": {},
   "outputs": [
    {
     "data": {
      "text/plain": [
       "26    21\n",
       "21    15\n",
       "5     14\n",
       "10    14\n",
       "11    14\n",
       "15    14\n",
       "7     13\n",
       "24    12\n",
       "20    12\n",
       "6     12\n",
       "13    11\n",
       "22    11\n",
       "19    11\n",
       "18    11\n",
       "9     10\n",
       "3     10\n",
       "28    10\n",
       "4      9\n",
       "30     9\n",
       "1      9\n",
       "8      8\n",
       "12     8\n",
       "29     7\n",
       "27     7\n",
       "25     6\n",
       "2      5\n",
       "17     5\n",
       "23     4\n",
       "16     4\n",
       "14     3\n",
       "Name: login_day, dtype: int64"
      ]
     },
     "execution_count": 12,
     "metadata": {},
     "output_type": "execute_result"
    }
   ],
   "source": [
    "df_loginday1 = data2['login_day'].value_counts()\n",
    "df_loginday1"
   ]
  },
  {
   "cell_type": "code",
   "execution_count": 13,
   "metadata": {},
   "outputs": [
    {
     "data": {
      "text/plain": [
       "<matplotlib.axes._subplots.AxesSubplot at 0x243baa26280>"
      ]
     },
     "execution_count": 13,
     "metadata": {},
     "output_type": "execute_result"
    },
    {
     "data": {
      "image/png": "[encoded data removed]",
      "text/plain": [
       "<Figure size 432x288 with 1 Axes>"
      ]
     },
     "metadata": {
      "needs_background": "light"
     },
     "output_type": "display_data"
    }
   ],
   "source": [
    "df_loginday1.plot.barh() "
   ]
  },
  {
   "cell_type": "code",
   "execution_count": 14,
   "metadata": {},
   "outputs": [
    {
     "data": {
      "text/plain": [
       "([<matplotlib.axis.XTick at 0x243bb219e20>,\n",
       "  <matplotlib.axis.XTick at 0x243bb219df0>,\n",
       "  <matplotlib.axis.XTick at 0x243bb23d220>,\n",
       "  <matplotlib.axis.XTick at 0x243bb23ddc0>,\n",
       "  <matplotlib.axis.XTick at 0x243bb24c310>,\n",
       "  <matplotlib.axis.XTick at 0x243bb24c820>,\n",
       "  <matplotlib.axis.XTick at 0x243bb24cd30>,\n",
       "  <matplotlib.axis.XTick at 0x243bb252280>,\n",
       "  <matplotlib.axis.XTick at 0x243bb252790>,\n",
       "  <matplotlib.axis.XTick at 0x243ba9786d0>,\n",
       "  <matplotlib.axis.XTick at 0x243bb2555e0>,\n",
       "  <matplotlib.axis.XTick at 0x243bb255ac0>,\n",
       "  <matplotlib.axis.XTick at 0x243bb252d90>,\n",
       "  <matplotlib.axis.XTick at 0x243bb24cd90>,\n",
       "  <matplotlib.axis.XTick at 0x243bb23dfa0>,\n",
       "  <matplotlib.axis.XTick at 0x243bb255700>,\n",
       "  <matplotlib.axis.XTick at 0x243bb255e20>,\n",
       "  <matplotlib.axis.XTick at 0x243bb25d370>,\n",
       "  <matplotlib.axis.XTick at 0x243bb25d880>,\n",
       "  <matplotlib.axis.XTick at 0x243bb25dd90>,\n",
       "  <matplotlib.axis.XTick at 0x243bb2642e0>,\n",
       "  <matplotlib.axis.XTick at 0x243bb2647f0>,\n",
       "  <matplotlib.axis.XTick at 0x243bb25da60>,\n",
       "  <matplotlib.axis.XTick at 0x243bb255340>,\n",
       "  <matplotlib.axis.XTick at 0x243bb252880>,\n",
       "  <matplotlib.axis.XTick at 0x243bb264c70>,\n",
       "  <matplotlib.axis.XTick at 0x243bb26b1c0>,\n",
       "  <matplotlib.axis.XTick at 0x243bb26b6d0>,\n",
       "  <matplotlib.axis.XTick at 0x243bb26bbe0>,\n",
       "  <matplotlib.axis.XTick at 0x243bb271130>],\n",
       " [Text(0, 0, '1'),\n",
       "  Text(0, 0, '2'),\n",
       "  Text(0, 0, '3'),\n",
       "  Text(0, 0, '4'),\n",
       "  Text(0, 0, '5'),\n",
       "  Text(0, 0, '6'),\n",
       "  Text(0, 0, '7'),\n",
       "  Text(0, 0, '8'),\n",
       "  Text(0, 0, '9'),\n",
       "  Text(0, 0, '10'),\n",
       "  Text(0, 0, '11'),\n",
       "  Text(0, 0, '12'),\n",
       "  Text(0, 0, '13'),\n",
       "  Text(0, 0, '14'),\n",
       "  Text(0, 0, '15'),\n",
       "  Text(0, 0, '16'),\n",
       "  Text(0, 0, '17'),\n",
       "  Text(0, 0, '18'),\n",
       "  Text(0, 0, '19'),\n",
       "  Text(0, 0, '20'),\n",
       "  Text(0, 0, '21'),\n",
       "  Text(0, 0, '22'),\n",
       "  Text(0, 0, '23'),\n",
       "  Text(0, 0, '24'),\n",
       "  Text(0, 0, '25'),\n",
       "  Text(0, 0, '26'),\n",
       "  Text(0, 0, '27'),\n",
       "  Text(0, 0, '28'),\n",
       "  Text(0, 0, '29'),\n",
       "  Text(0, 0, '30')])"
      ]
     },
     "execution_count": 14,
     "metadata": {},
     "output_type": "execute_result"
    },
    {
     "data": {
      "image/png": "[encoded data removed]",
      "text/plain": [
       "<Figure size 432x288 with 1 Axes>"
      ]
     },
     "metadata": {
      "needs_background": "light"
     },
     "output_type": "display_data"
    }
   ],
   "source": [
    "df_loginday2=data2['login_day'].value_counts().sort_index(ascending=True)\n",
    "df_loginday2.plot()\n",
    "x= range(1, 31)   #x 轴数据\n",
    "plt.xticks(x,x[::1],color='blue')"
   ]
  },
  {
   "cell_type": "markdown",
   "metadata": {},
   "source": [
    "## Active Users"
   ]
  },
  {
   "cell_type": "code",
   "execution_count": 15,
   "metadata": {},
   "outputs": [
    {
     "name": "stdout",
     "output_type": "stream",
     "text": [
      "<class 'pandas.core.frame.DataFrame'>\n",
      "Int64Index: 297 entries, 0 to 299\n",
      "Data columns (total 17 columns):\n",
      " #   Column                  Non-Null Count  Dtype  \n",
      "---  ------                  --------------  -----  \n",
      " 0   session_id              297 non-null    float64\n",
      " 1   customer_id             297 non-null    float64\n",
      " 2   login_date              297 non-null    object \n",
      " 3   projects_added          297 non-null    object \n",
      " 4   likes_given             297 non-null    object \n",
      " 5   comment_given           297 non-null    object \n",
      " 6   inactive_status         297 non-null    object \n",
      " 7   bug_occured             297 non-null    object \n",
      " 8   session_projects_added  297 non-null    float64\n",
      " 9   session_likes_given     297 non-null    float64\n",
      " 10  session_comments_given  297 non-null    float64\n",
      " 11  inactive_duration       297 non-null    float64\n",
      " 12  bugs_in_session         297 non-null    float64\n",
      " 13  session_duration        297 non-null    float64\n",
      " 14  login_month             297 non-null    object \n",
      " 15  login_day               297 non-null    object \n",
      " 16  login_year              297 non-null    object \n",
      "dtypes: float64(8), object(9)\n",
      "memory usage: 41.8+ KB\n"
     ]
    }
   ],
   "source": [
    "data3 = data2[data2['session_duration']>15]\n",
    "data3.info()"
   ]
  },
  {
   "cell_type": "code",
   "execution_count": 16,
   "metadata": {},
   "outputs": [
    {
     "name": "stderr",
     "output_type": "stream",
     "text": [
      "<ipython-input-16-7adf139baf54>:1: SettingWithCopyWarning: \n",
      "A value is trying to be set on a copy of a slice from a DataFrame.\n",
      "Try using .loc[row_indexer,col_indexer] = value instead\n",
      "\n",
      "See the caveats in the documentation: https://pandas.pydata.org/pandas-docs/stable/user_guide/indexing.html#returning-a-view-versus-a-copy\n",
      "  data3['active_index'] = (data3['session_duration']-data3['inactive_duration'])/data3['session_duration']\n"
     ]
    },
    {
     "data": {
      "text/html": [
       "<div>\n",
       "<style scoped>\n",
       "    .dataframe tbody tr th:only-of-type {\n",
       "        vertical-align: middle;\n",
       "    }\n",
       "\n",
       "    .dataframe tbody tr th {\n",
       "        vertical-align: top;\n",
       "    }\n",
       "\n",
       "    .dataframe thead th {\n",
       "        text-align: right;\n",
       "    }\n",
       "</style>\n",
       "<table border=\"1\" class=\"dataframe\">\n",
       "  <thead>\n",
       "    <tr style=\"text-align: right;\">\n",
       "      <th></th>\n",
       "      <th>session_id</th>\n",
       "      <th>customer_id</th>\n",
       "      <th>login_date</th>\n",
       "      <th>projects_added</th>\n",
       "      <th>likes_given</th>\n",
       "      <th>comment_given</th>\n",
       "      <th>inactive_status</th>\n",
       "      <th>bug_occured</th>\n",
       "      <th>session_projects_added</th>\n",
       "      <th>session_likes_given</th>\n",
       "      <th>session_comments_given</th>\n",
       "      <th>inactive_duration</th>\n",
       "      <th>bugs_in_session</th>\n",
       "      <th>session_duration</th>\n",
       "      <th>login_month</th>\n",
       "      <th>login_day</th>\n",
       "      <th>login_year</th>\n",
       "      <th>active_index</th>\n",
       "    </tr>\n",
       "  </thead>\n",
       "  <tbody>\n",
       "    <tr>\n",
       "      <th>0</th>\n",
       "      <td>624205.0</td>\n",
       "      <td>80746.0</td>\n",
       "      <td>10/30/19</td>\n",
       "      <td>0</td>\n",
       "      <td>1</td>\n",
       "      <td>1</td>\n",
       "      <td>1</td>\n",
       "      <td>0</td>\n",
       "      <td>0.0</td>\n",
       "      <td>24.0</td>\n",
       "      <td>3.0</td>\n",
       "      <td>1146.0</td>\n",
       "      <td>0.0</td>\n",
       "      <td>1564.0</td>\n",
       "      <td>10</td>\n",
       "      <td>30</td>\n",
       "      <td>19</td>\n",
       "      <td>0.267263</td>\n",
       "    </tr>\n",
       "    <tr>\n",
       "      <th>1</th>\n",
       "      <td>624241.0</td>\n",
       "      <td>24520.0</td>\n",
       "      <td>10/30/19</td>\n",
       "      <td>1</td>\n",
       "      <td>1</td>\n",
       "      <td>1</td>\n",
       "      <td>1</td>\n",
       "      <td>0</td>\n",
       "      <td>2.0</td>\n",
       "      <td>3.0</td>\n",
       "      <td>5.0</td>\n",
       "      <td>133.0</td>\n",
       "      <td>0.0</td>\n",
       "      <td>1766.0</td>\n",
       "      <td>10</td>\n",
       "      <td>30</td>\n",
       "      <td>19</td>\n",
       "      <td>0.924689</td>\n",
       "    </tr>\n",
       "    <tr>\n",
       "      <th>2</th>\n",
       "      <td>111002.0</td>\n",
       "      <td>32047.0</td>\n",
       "      <td>10/30/19</td>\n",
       "      <td>1</td>\n",
       "      <td>1</td>\n",
       "      <td>1</td>\n",
       "      <td>1</td>\n",
       "      <td>0</td>\n",
       "      <td>1.0</td>\n",
       "      <td>5.0</td>\n",
       "      <td>5.0</td>\n",
       "      <td>1571.0</td>\n",
       "      <td>0.0</td>\n",
       "      <td>2230.0</td>\n",
       "      <td>10</td>\n",
       "      <td>30</td>\n",
       "      <td>19</td>\n",
       "      <td>0.295516</td>\n",
       "    </tr>\n",
       "    <tr>\n",
       "      <th>3</th>\n",
       "      <td>545113.0</td>\n",
       "      <td>23404.0</td>\n",
       "      <td>10/30/19</td>\n",
       "      <td>1</td>\n",
       "      <td>1</td>\n",
       "      <td>1</td>\n",
       "      <td>0</td>\n",
       "      <td>0</td>\n",
       "      <td>1.0</td>\n",
       "      <td>10.0</td>\n",
       "      <td>21.0</td>\n",
       "      <td>0.0</td>\n",
       "      <td>0.0</td>\n",
       "      <td>633.0</td>\n",
       "      <td>10</td>\n",
       "      <td>30</td>\n",
       "      <td>19</td>\n",
       "      <td>1.000000</td>\n",
       "    </tr>\n",
       "    <tr>\n",
       "      <th>4</th>\n",
       "      <td>750269.0</td>\n",
       "      <td>40235.0</td>\n",
       "      <td>10/30/19</td>\n",
       "      <td>1</td>\n",
       "      <td>1</td>\n",
       "      <td>0</td>\n",
       "      <td>1</td>\n",
       "      <td>0</td>\n",
       "      <td>3.0</td>\n",
       "      <td>16.0</td>\n",
       "      <td>0.0</td>\n",
       "      <td>1405.0</td>\n",
       "      <td>0.0</td>\n",
       "      <td>1679.0</td>\n",
       "      <td>10</td>\n",
       "      <td>30</td>\n",
       "      <td>19</td>\n",
       "      <td>0.163192</td>\n",
       "    </tr>\n",
       "  </tbody>\n",
       "</table>\n",
       "</div>"
      ],
      "text/plain": [
       "   session_id  customer_id login_date projects_added likes_given  \\\n",
       "0    624205.0      80746.0   10/30/19              0           1   \n",
       "1    624241.0      24520.0   10/30/19              1           1   \n",
       "2    111002.0      32047.0   10/30/19              1           1   \n",
       "3    545113.0      23404.0   10/30/19              1           1   \n",
       "4    750269.0      40235.0   10/30/19              1           1   \n",
       "\n",
       "  comment_given inactive_status bug_occured  session_projects_added  \\\n",
       "0             1               1           0                     0.0   \n",
       "1             1               1           0                     2.0   \n",
       "2             1               1           0                     1.0   \n",
       "3             1               0           0                     1.0   \n",
       "4             0               1           0                     3.0   \n",
       "\n",
       "   session_likes_given  session_comments_given  inactive_duration  \\\n",
       "0                 24.0                     3.0             1146.0   \n",
       "1                  3.0                     5.0              133.0   \n",
       "2                  5.0                     5.0             1571.0   \n",
       "3                 10.0                    21.0                0.0   \n",
       "4                 16.0                     0.0             1405.0   \n",
       "\n",
       "   bugs_in_session  session_duration login_month login_day login_year  \\\n",
       "0              0.0            1564.0          10        30         19   \n",
       "1              0.0            1766.0          10        30         19   \n",
       "2              0.0            2230.0          10        30         19   \n",
       "3              0.0             633.0          10        30         19   \n",
       "4              0.0            1679.0          10        30         19   \n",
       "\n",
       "   active_index  \n",
       "0      0.267263  \n",
       "1      0.924689  \n",
       "2      0.295516  \n",
       "3      1.000000  \n",
       "4      0.163192  "
      ]
     },
     "execution_count": 16,
     "metadata": {},
     "output_type": "execute_result"
    }
   ],
   "source": [
    "data3['active_index'] = (data3['session_duration']-data3['inactive_duration'])/data3['session_duration']\n",
    "data3.head()"
   ]
  },
  {
   "cell_type": "code",
   "execution_count": 17,
   "metadata": {},
   "outputs": [
    {
     "data": {
      "text/plain": [
       "active                 145\n",
       "error_value             87\n",
       "relatively_inactive     25\n",
       "inactive                21\n",
       "relatively_active       19\n",
       "Name: active_index, dtype: int64"
      ]
     },
     "execution_count": 17,
     "metadata": {},
     "output_type": "execute_result"
    }
   ],
   "source": [
    "bin = [-100,0,0.2,0.5,0.8,1]\n",
    "active_level = pd.cut(data3['active_index'],bin,labels=['error_value','inactive','relatively_inactive','relatively_active','active'])\n",
    "pd.value_counts(active_level)"
   ]
  },
  {
   "cell_type": "code",
   "execution_count": 18,
   "metadata": {},
   "outputs": [
    {
     "data": {
      "text/plain": [
       "<matplotlib.axes._subplots.AxesSubplot at 0x243bb29faf0>"
      ]
     },
     "execution_count": 18,
     "metadata": {},
     "output_type": "execute_result"
    },
    {
     "data": {
      "image/png": "[encoded data removed]",
      "text/plain": [
       "<Figure size 432x288 with 1 Axes>"
      ]
     },
     "metadata": {
      "needs_background": "light"
     },
     "output_type": "display_data"
    }
   ],
   "source": [
    "data4 = data3[data3['active_index']>0]\n",
    "data4['active_index'].hist()"
   ]
  },
  {
   "cell_type": "markdown",
   "metadata": {},
   "source": [
    "## Simple Visualization of Project Added and Like and Comments Given"
   ]
  },
  {
   "cell_type": "code",
   "execution_count": 19,
   "metadata": {},
   "outputs": [
    {
     "data": {
      "text/plain": [
       "<matplotlib.axes._subplots.AxesSubplot at 0x243bb30a880>"
      ]
     },
     "execution_count": 19,
     "metadata": {},
     "output_type": "execute_result"
    },
    {
     "data": {
      "image/png": "[encoded data removed]",
      "text/plain": [
       "<Figure size 432x288 with 1 Axes>"
      ]
     },
     "metadata": {
      "needs_background": "light"
     },
     "output_type": "display_data"
    }
   ],
   "source": [
    "cols = ['projects_added','likes_given','comment_given']\n",
    "df1 = pd.DataFrame(data3,columns = cols)\n",
    "combination_plt = df1.apply(pd.Series.value_counts)\n",
    "combination_plt.plot.bar()"
   ]
  },
  {
   "cell_type": "code",
   "execution_count": 21,
   "metadata": {},
   "outputs": [
    {
     "data": {
      "text/plain": [
       "<matplotlib.axes._subplots.AxesSubplot at 0x243bb3ffa00>"
      ]
     },
     "execution_count": 21,
     "metadata": {},
     "output_type": "execute_result"
    },
    {
     "data": {
      "image/png": "[encoded data removed]",
      "text/plain": [
       "<Figure size 432x288 with 1 Axes>"
      ]
     },
     "metadata": {
      "needs_background": "light"
     },
     "output_type": "display_data"
    }
   ],
   "source": [
    "data3['session_projects_added'].hist()"
   ]
  },
  {
   "cell_type": "code",
   "execution_count": 22,
   "metadata": {},
   "outputs": [
    {
     "data": {
      "text/plain": [
       "<matplotlib.axes._subplots.AxesSubplot at 0x243bb468ee0>"
      ]
     },
     "execution_count": 22,
     "metadata": {},
     "output_type": "execute_result"
    },
    {
     "data": {
      "image/png": "[encoded data removed]",
      "text/plain": [
       "<Figure size 432x288 with 1 Axes>"
      ]
     },
     "metadata": {
      "needs_background": "light"
     },
     "output_type": "display_data"
    }
   ],
   "source": [
    "data3['session_likes_given'].hist()"
   ]
  },
  {
   "cell_type": "code",
   "execution_count": 23,
   "metadata": {},
   "outputs": [
    {
     "data": {
      "text/plain": [
       "<matplotlib.axes._subplots.AxesSubplot at 0x243bb3ffd60>"
      ]
     },
     "execution_count": 23,
     "metadata": {},
     "output_type": "execute_result"
    },
    {
     "data": {
      "image/png": "[encoded data removed]",
      "text/plain": [
       "<Figure size 432x288 with 1 Axes>"
      ]
     },
     "metadata": {
      "needs_background": "light"
     },
     "output_type": "display_data"
    }
   ],
   "source": [
    "data3['session_comments_given'].hist()"
   ]
  },
  {
   "cell_type": "markdown",
   "metadata": {},
   "source": [
    "## Bugs"
   ]
  },
  {
   "cell_type": "code",
   "execution_count": 32,
   "metadata": {},
   "outputs": [
    {
     "data": {
      "text/plain": [
       "0.0    181\n",
       "2.0     28\n",
       "4.0     28\n",
       "5.0     24\n",
       "3.0     23\n",
       "1.0     13\n",
       "Name: bugs_in_session, dtype: int64"
      ]
     },
     "execution_count": 32,
     "metadata": {},
     "output_type": "execute_result"
    }
   ],
   "source": [
    "data3['bugs_in_session'].value_counts()"
   ]
  },
  {
   "cell_type": "code",
   "execution_count": 31,
   "metadata": {},
   "outputs": [
    {
     "data": {
      "text/plain": [
       "<matplotlib.axes._subplots.AxesSubplot at 0x243bd895730>"
      ]
     },
     "execution_count": 31,
     "metadata": {},
     "output_type": "execute_result"
    },
    {
     "data": {
      "image/png": "[encoded data removed]",
      "text/plain": [
       "<Figure size 432x288 with 1 Axes>"
      ]
     },
     "metadata": {
      "needs_background": "light"
     },
     "output_type": "display_data"
    }
   ],
   "source": [
    "data3['bugs_in_session'].value_counts().plot.bar()"
   ]
  },
  {
   "cell_type": "markdown",
   "metadata": {},
   "source": [
    "## Relationship Between Active Index and Other Variables"
   ]
  },
  {
   "cell_type": "code",
   "execution_count": 48,
   "metadata": {},
   "outputs": [],
   "source": [
    "y=data4['active_index']\n",
    "cols = ['session_projects_added','session_likes_given','session_comments_given','bugs_in_session']\n",
    "X = pd.DataFrame(data4,columns = cols)\n",
    "X_train,X_test,y_train,y_test=train_test_split(X,y,test_size=0.3,random_state=1)"
   ]
  },
  {
   "cell_type": "code",
   "execution_count": 49,
   "metadata": {},
   "outputs": [
    {
     "name": "stdout",
     "output_type": "stream",
     "text": [
      "Linear Regression:r2_train=0.033620966148516396\n",
      "Linear Regression:r2_test=-0.03225602999273658\n",
      "Linear Regression:mse_train=0.09794582236272611\n",
      "Linear Regression:mse_test=0.10745491934656358\n"
     ]
    }
   ],
   "source": [
    "lr = LinearRegression()\n",
    "lr.fit(X_train,y_train)\n",
    "y_pred_train=lr.predict(X_train)\n",
    "y_pred_test=lr.predict(X_test)\n",
    "r2_train=r2_score(y_train,y_pred_train)\n",
    "r2_test=r2_score(y_test,y_pred_test)\n",
    "print(\"{}:r2_train={}\".format(\"Linear Regression\",r2_train))\n",
    "print(\"{}:r2_test={}\".format(\"Linear Regression\",r2_test))\n",
    "\n",
    "mse_train=mean_squared_error(y_train,y_pred_train)\n",
    "print(\"{}:mse_train={}\".format(\"Linear Regression\",mse_train))\n",
    "\n",
    "#caculate mse in testset\n",
    "mse_test=mean_squared_error(y_test,y_pred_test)\n",
    "print(\"{}:mse_test={}\".format(\"Linear Regression\",mse_test))"
   ]
  },
  {
   "cell_type": "code",
   "execution_count": 50,
   "metadata": {},
   "outputs": [
    {
     "data": {
      "text/plain": [
       "array([ 0.0332766 ,  0.00357646,  0.00459658, -0.01600246])"
      ]
     },
     "execution_count": 50,
     "metadata": {},
     "output_type": "execute_result"
    }
   ],
   "source": [
    "lr.coef_"
   ]
  },
  {
   "cell_type": "code",
   "execution_count": 51,
   "metadata": {},
   "outputs": [
    {
     "data": {
      "text/plain": [
       "0.7121144950902093"
      ]
     },
     "execution_count": 51,
     "metadata": {},
     "output_type": "execute_result"
    }
   ],
   "source": [
    "lr.intercept_"
   ]
  },
  {
   "cell_type": "code",
   "execution_count": 52,
   "metadata": {},
   "outputs": [
    {
     "data": {
      "text/plain": [
       "0.033620966148516396"
      ]
     },
     "execution_count": 52,
     "metadata": {},
     "output_type": "execute_result"
    }
   ],
   "source": [
    "lr.score(X_train,y_train)"
   ]
  },
  {
   "cell_type": "code",
   "execution_count": 53,
   "metadata": {},
   "outputs": [
    {
     "data": {
      "text/plain": [
       "-0.03225602999273658"
      ]
     },
     "execution_count": 53,
     "metadata": {},
     "output_type": "execute_result"
    }
   ],
   "source": [
    "lr.score(X_test,y_test)"
   ]
  },
  {
   "cell_type": "code",
   "execution_count": null,
   "metadata": {},
   "outputs": [],
   "source": []
  }
 ],
 "metadata": {
  "kernelspec": {
   "display_name": "Python 3",
   "language": "python",
   "name": "python3"
  },
  "language_info": {
   "codemirror_mode": {
    "name": "ipython",
    "version": 3
   },
   "file_extension": ".py",
   "mimetype": "text/x-python",
   "name": "python",
   "nbconvert_exporter": "python",
   "pygments_lexer": "ipython3",
   "version": "3.8.3"
  }
 },
 "nbformat": 4,
 "nbformat_minor": 4
}
